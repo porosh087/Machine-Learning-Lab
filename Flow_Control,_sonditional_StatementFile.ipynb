{
  "nbformat": 4,
  "nbformat_minor": 0,
  "metadata": {
    "colab": {
      "provenance": [],
      "authorship_tag": "ABX9TyOsZnlq0IPnY4qfhIQX6wlo",
      "include_colab_link": true
    },
    "kernelspec": {
      "name": "python3",
      "display_name": "Python 3"
    },
    "language_info": {
      "name": "python"
    }
  },
  "cells": [
    {
      "cell_type": "markdown",
      "metadata": {
        "id": "view-in-github",
        "colab_type": "text"
      },
      "source": [
        "<a href=\"https://colab.research.google.com/github/porosh087/Machine-Learning-Lab/blob/main/Flow_Control%2C_sonditional_StatementFile.ipynb\" target=\"_parent\"><img src=\"https://colab.research.google.com/assets/colab-badge.svg\" alt=\"Open In Colab\"/></a>"
      ]
    },
    {
      "cell_type": "code",
      "execution_count": 2,
      "metadata": {
        "colab": {
          "base_uri": "https://localhost:8080/"
        },
        "id": "afB_qiof1Ew-",
        "outputId": "0a9d0d37-a8cd-4cc6-9d13-3295f591aee0"
      },
      "outputs": [
        {
          "output_type": "stream",
          "name": "stdout",
          "text": [
            "Enable for Premium membership\n"
          ]
        }
      ],
      "source": [
        "age = 28\n",
        "salary = 60000\n",
        "\n",
        "if age >= 25 and salary >= 50000:\n",
        "  print('Enable for Premium membership')\n",
        "else:\n",
        "  print(' Not Enable for Premium membership')"
      ]
    },
    {
      "cell_type": "code",
      "source": [],
      "metadata": {
        "id": "sNRsx5iC1jRX"
      },
      "execution_count": null,
      "outputs": []
    }
  ]
}
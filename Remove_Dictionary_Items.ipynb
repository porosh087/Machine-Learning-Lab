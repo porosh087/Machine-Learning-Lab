{
  "nbformat": 4,
  "nbformat_minor": 0,
  "metadata": {
    "colab": {
      "provenance": [],
      "authorship_tag": "ABX9TyOp8t0T0YminKdlI//nHz1M",
      "include_colab_link": true
    },
    "kernelspec": {
      "name": "python3",
      "display_name": "Python 3"
    },
    "language_info": {
      "name": "python"
    }
  },
  "cells": [
    {
      "cell_type": "markdown",
      "metadata": {
        "id": "view-in-github",
        "colab_type": "text"
      },
      "source": [
        "<a href=\"https://colab.research.google.com/github/porosh087/Machine-Learning-Lab/blob/main/Remove_Dictionary_Items.ipynb\" target=\"_parent\"><img src=\"https://colab.research.google.com/assets/colab-badge.svg\" alt=\"Open In Colab\"/></a>"
      ]
    },
    {
      "cell_type": "code",
      "execution_count": 1,
      "metadata": {
        "colab": {
          "base_uri": "https://localhost:8080/"
        },
        "id": "oIcIEi1N6cP_",
        "outputId": "28e17b93-47ac-4b25-d4af-6d1e2c887e89"
      },
      "outputs": [
        {
          "output_type": "stream",
          "name": "stdout",
          "text": [
            "{'Canada': 'Ottawa'}\n"
          ]
        }
      ],
      "source": [
        "country_capital = {\n",
        "    \"Germany\": \"Berlin\",\n",
        "    \"Canada\": \"Ottawa\"\n",
        "}\n",
        "del country_capital[\"Germany\"]\n",
        "\n",
        "print (country_capital)"
      ]
    },
    {
      "cell_type": "code",
      "source": [],
      "metadata": {
        "id": "bNM-JSJ06-q2"
      },
      "execution_count": null,
      "outputs": []
    }
  ]
}
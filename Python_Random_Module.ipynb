{
  "nbformat": 4,
  "nbformat_minor": 0,
  "metadata": {
    "colab": {
      "provenance": [],
      "authorship_tag": "ABX9TyM/ukrnVoBsqWG/cT8ugdb3",
      "include_colab_link": true
    },
    "kernelspec": {
      "name": "python3",
      "display_name": "Python 3"
    },
    "language_info": {
      "name": "python"
    }
  },
  "cells": [
    {
      "cell_type": "markdown",
      "metadata": {
        "id": "view-in-github",
        "colab_type": "text"
      },
      "source": [
        "<a href=\"https://colab.research.google.com/github/porosh087/Machine-Learning-Lab/blob/main/Python_Random_Module.ipynb\" target=\"_parent\"><img src=\"https://colab.research.google.com/assets/colab-badge.svg\" alt=\"Open In Colab\"/></a>"
      ]
    },
    {
      "cell_type": "code",
      "execution_count": 1,
      "metadata": {
        "colab": {
          "base_uri": "https://localhost:8080/"
        },
        "id": "p2MeA4484qa8",
        "outputId": "c686b906-fce6-408a-97fd-1be1d5fe05fc"
      },
      "outputs": [
        {
          "output_type": "stream",
          "name": "stdout",
          "text": [
            "11\n",
            "b\n",
            "['d', 'c', 'a', 'b', 'e']\n",
            "0.12122709050241864\n"
          ]
        }
      ],
      "source": [
        "import random\n",
        "\n",
        "print(random.randrange(10, 20))\n",
        "\n",
        "list1 = ['a', 'b', 'c', 'd', 'e']\n",
        "\n",
        "print(random.choice(list1))\n",
        "\n",
        "random.shuffle(list1)\n",
        "\n",
        "print(list1)\n",
        "\n",
        "print(random.random())"
      ]
    },
    {
      "cell_type": "code",
      "source": [],
      "metadata": {
        "id": "9Kpef--56C2v"
      },
      "execution_count": null,
      "outputs": []
    }
  ]
}
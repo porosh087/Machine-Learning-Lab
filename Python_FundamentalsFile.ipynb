{
  "nbformat": 4,
  "nbformat_minor": 0,
  "metadata": {
    "colab": {
      "provenance": [],
      "authorship_tag": "ABX9TyMcLOl0cY4SextB5dWjqLRm",
      "include_colab_link": true
    },
    "kernelspec": {
      "name": "python3",
      "display_name": "Python 3"
    },
    "language_info": {
      "name": "python"
    }
  },
  "cells": [
    {
      "cell_type": "markdown",
      "metadata": {
        "id": "view-in-github",
        "colab_type": "text"
      },
      "source": [
        "<a href=\"https://colab.research.google.com/github/porosh087/Machine-Learning-Lab/blob/main/Python_FundamentalsFile.ipynb\" target=\"_parent\"><img src=\"https://colab.research.google.com/assets/colab-badge.svg\" alt=\"Open In Colab\"/></a>"
      ]
    },
    {
      "cell_type": "code",
      "execution_count": 1,
      "metadata": {
        "colab": {
          "base_uri": "https://localhost:8080/"
        },
        "id": "KskapMajz52Y",
        "outputId": "5ff7bd15-769a-40cb-b9f0-23dc5301bb77"
      },
      "outputs": [
        {
          "output_type": "stream",
          "name": "stdout",
          "text": [
            "Value:  5100.25\n",
            "Data Type:  <class 'float'>\n"
          ]
        }
      ],
      "source": [
        "integer_number = 5000\n",
        "float_number = 100.25\n",
        "\n",
        "new_number = integer_number + float_number\n",
        "\n",
        "print(\"Value: \", new_number)\n",
        "print(\"Data Type: \", type(new_number))"
      ]
    },
    {
      "cell_type": "code",
      "source": [],
      "metadata": {
        "id": "fovArT0A0hJO"
      },
      "execution_count": null,
      "outputs": []
    }
  ]
}